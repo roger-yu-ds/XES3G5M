{
 "cells": [
  {
   "cell_type": "code",
   "execution_count": 42,
   "id": "1cc85a20",
   "metadata": {},
   "outputs": [
    {
     "name": "stdout",
     "output_type": "stream",
     "text": [
      "take_home_assignment\n"
     ]
    }
   ],
   "source": [
    "import os\n",
    "from pathlib import Path\n",
    "from dotenv import find_dotenv\n",
    "\n",
    "os.chdir(Path(find_dotenv()).parent)\n",
    "print(Path.cwd().stem)"
   ]
  },
  {
   "cell_type": "markdown",
   "id": "11440964",
   "metadata": {},
   "source": [
    "# Introduction\n",
    "\n",
    "Compare metrics across training data of different sizes."
   ]
  }
 ],
 "metadata": {
  "kernelspec": {
   "display_name": "saint_plus",
   "language": "python",
   "name": "python3"
  },
  "language_info": {
   "codemirror_mode": {
    "name": "ipython",
    "version": 3
   },
   "file_extension": ".py",
   "mimetype": "text/x-python",
   "name": "python",
   "nbconvert_exporter": "python",
   "pygments_lexer": "ipython3",
   "version": "3.10.16"
  }
 },
 "nbformat": 4,
 "nbformat_minor": 5
}
